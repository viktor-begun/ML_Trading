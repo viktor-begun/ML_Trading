{
 "cells": [
  {
   "cell_type": "markdown",
   "metadata": {},
   "source": [
    "# Forecast with a Deep Learning Network.\n",
    "**Goal: Make a deep learning network similar to my [Bike-Sharing-Prediction project](https://github.com/viktor-begun/Deep_Learning_Bike_Sharing) and use it to forecast the price movement.**  "
   ]
  },
  {
   "cell_type": "markdown",
   "metadata": {},
   "source": [
    "##  Load and prepare the data "
   ]
  },
  {
   "cell_type": "code",
   "execution_count": 1,
   "metadata": {},
   "outputs": [],
   "source": [
    "%matplotlib inline\n",
    "%load_ext autoreload\n",
    "%autoreload 2\n",
    "%config InlineBackend.figure_format = 'retina'\n",
    "\n",
    "import numpy as np\n",
    "import pandas as pd\n",
    "import matplotlib.pyplot as plt"
   ]
  },
  {
   "cell_type": "code",
   "execution_count": 2,
   "metadata": {},
   "outputs": [],
   "source": [
    "data_path = 'EURUSD_1H_2016.txt'\n",
    "df = pd.read_table(data_path,sep=',')"
   ]
  },
  {
   "cell_type": "code",
   "execution_count": 3,
   "metadata": {},
   "outputs": [
    {
     "name": "stdout",
     "output_type": "stream",
     "text": [
      "<class 'pandas.core.frame.DataFrame'>\n",
      "RangeIndex: 8783 entries, 0 to 8782\n",
      "Data columns (total 6 columns):\n",
      " #   Column      Non-Null Count  Dtype  \n",
      "---  ------      --------------  -----  \n",
      " 0   Local time  8783 non-null   object \n",
      " 1   Open        8783 non-null   float64\n",
      " 2   High        8783 non-null   float64\n",
      " 3   Low         8783 non-null   float64\n",
      " 4   Close       8783 non-null   float64\n",
      " 5   Volume      8783 non-null   float64\n",
      "dtypes: float64(5), object(1)\n",
      "memory usage: 411.8+ KB\n"
     ]
    }
   ],
   "source": [
    "df.info()"
   ]
  },
  {
   "cell_type": "code",
   "execution_count": 4,
   "metadata": {
    "scrolled": false
   },
   "outputs": [
    {
     "data": {
      "text/html": [
       "<div>\n",
       "<style scoped>\n",
       "    .dataframe tbody tr th:only-of-type {\n",
       "        vertical-align: middle;\n",
       "    }\n",
       "\n",
       "    .dataframe tbody tr th {\n",
       "        vertical-align: top;\n",
       "    }\n",
       "\n",
       "    .dataframe thead th {\n",
       "        text-align: right;\n",
       "    }\n",
       "</style>\n",
       "<table border=\"1\" class=\"dataframe\">\n",
       "  <thead>\n",
       "    <tr style=\"text-align: right;\">\n",
       "      <th></th>\n",
       "      <th>Local time</th>\n",
       "      <th>Open</th>\n",
       "      <th>High</th>\n",
       "      <th>Low</th>\n",
       "      <th>Close</th>\n",
       "      <th>Volume</th>\n",
       "    </tr>\n",
       "  </thead>\n",
       "  <tbody>\n",
       "    <tr>\n",
       "      <th>0</th>\n",
       "      <td>01.01.2016 00:00:00.000</td>\n",
       "      <td>1.08564</td>\n",
       "      <td>1.08564</td>\n",
       "      <td>1.08564</td>\n",
       "      <td>1.08564</td>\n",
       "      <td>0.0</td>\n",
       "    </tr>\n",
       "    <tr>\n",
       "      <th>1</th>\n",
       "      <td>01.01.2016 01:00:00.000</td>\n",
       "      <td>1.08564</td>\n",
       "      <td>1.08564</td>\n",
       "      <td>1.08564</td>\n",
       "      <td>1.08564</td>\n",
       "      <td>0.0</td>\n",
       "    </tr>\n",
       "    <tr>\n",
       "      <th>2</th>\n",
       "      <td>01.01.2016 02:00:00.000</td>\n",
       "      <td>1.08564</td>\n",
       "      <td>1.08564</td>\n",
       "      <td>1.08564</td>\n",
       "      <td>1.08564</td>\n",
       "      <td>0.0</td>\n",
       "    </tr>\n",
       "    <tr>\n",
       "      <th>3</th>\n",
       "      <td>01.01.2016 03:00:00.000</td>\n",
       "      <td>1.08564</td>\n",
       "      <td>1.08564</td>\n",
       "      <td>1.08564</td>\n",
       "      <td>1.08564</td>\n",
       "      <td>0.0</td>\n",
       "    </tr>\n",
       "    <tr>\n",
       "      <th>4</th>\n",
       "      <td>01.01.2016 04:00:00.000</td>\n",
       "      <td>1.08564</td>\n",
       "      <td>1.08564</td>\n",
       "      <td>1.08564</td>\n",
       "      <td>1.08564</td>\n",
       "      <td>0.0</td>\n",
       "    </tr>\n",
       "  </tbody>\n",
       "</table>\n",
       "</div>"
      ],
      "text/plain": [
       "                Local time     Open     High      Low    Close  Volume\n",
       "0  01.01.2016 00:00:00.000  1.08564  1.08564  1.08564  1.08564     0.0\n",
       "1  01.01.2016 01:00:00.000  1.08564  1.08564  1.08564  1.08564     0.0\n",
       "2  01.01.2016 02:00:00.000  1.08564  1.08564  1.08564  1.08564     0.0\n",
       "3  01.01.2016 03:00:00.000  1.08564  1.08564  1.08564  1.08564     0.0\n",
       "4  01.01.2016 04:00:00.000  1.08564  1.08564  1.08564  1.08564     0.0"
      ]
     },
     "execution_count": 4,
     "metadata": {},
     "output_type": "execute_result"
    }
   ],
   "source": [
    "df.head()"
   ]
  },
  {
   "cell_type": "code",
   "execution_count": 5,
   "metadata": {},
   "outputs": [
    {
     "data": {
      "text/plain": [
       "0       1.08564\n",
       "1       1.08564\n",
       "2       1.08564\n",
       "3       1.08564\n",
       "4       1.08564\n",
       "         ...   \n",
       "8778    1.05150\n",
       "8779    1.05150\n",
       "8780    1.05150\n",
       "8781    1.05150\n",
       "8782    1.05150\n",
       "Name: Low, Length: 8783, dtype: float64"
      ]
     },
     "execution_count": 5,
     "metadata": {},
     "output_type": "execute_result"
    }
   ],
   "source": [
    "df.Low"
   ]
  },
  {
   "cell_type": "markdown",
   "metadata": {},
   "source": [
    "**(!) Add a new column `High` minus `Low` - [`HML`](https://www.investopedia.com/terms/h/high_minus_low.asp)**"
   ]
  },
  {
   "cell_type": "code",
   "execution_count": 6,
   "metadata": {},
   "outputs": [],
   "source": [
    "df['HML'] = df.High - df.Low"
   ]
  },
  {
   "cell_type": "code",
   "execution_count": 7,
   "metadata": {},
   "outputs": [
    {
     "data": {
      "text/html": [
       "<div>\n",
       "<style scoped>\n",
       "    .dataframe tbody tr th:only-of-type {\n",
       "        vertical-align: middle;\n",
       "    }\n",
       "\n",
       "    .dataframe tbody tr th {\n",
       "        vertical-align: top;\n",
       "    }\n",
       "\n",
       "    .dataframe thead th {\n",
       "        text-align: right;\n",
       "    }\n",
       "</style>\n",
       "<table border=\"1\" class=\"dataframe\">\n",
       "  <thead>\n",
       "    <tr style=\"text-align: right;\">\n",
       "      <th></th>\n",
       "      <th>Local time</th>\n",
       "      <th>Open</th>\n",
       "      <th>High</th>\n",
       "      <th>Low</th>\n",
       "      <th>Close</th>\n",
       "      <th>Volume</th>\n",
       "      <th>HML</th>\n",
       "    </tr>\n",
       "  </thead>\n",
       "  <tbody>\n",
       "    <tr>\n",
       "      <th>0</th>\n",
       "      <td>01.01.2016 00:00:00.000</td>\n",
       "      <td>1.08564</td>\n",
       "      <td>1.08564</td>\n",
       "      <td>1.08564</td>\n",
       "      <td>1.08564</td>\n",
       "      <td>0.0</td>\n",
       "      <td>0.0</td>\n",
       "    </tr>\n",
       "    <tr>\n",
       "      <th>1</th>\n",
       "      <td>01.01.2016 01:00:00.000</td>\n",
       "      <td>1.08564</td>\n",
       "      <td>1.08564</td>\n",
       "      <td>1.08564</td>\n",
       "      <td>1.08564</td>\n",
       "      <td>0.0</td>\n",
       "      <td>0.0</td>\n",
       "    </tr>\n",
       "    <tr>\n",
       "      <th>2</th>\n",
       "      <td>01.01.2016 02:00:00.000</td>\n",
       "      <td>1.08564</td>\n",
       "      <td>1.08564</td>\n",
       "      <td>1.08564</td>\n",
       "      <td>1.08564</td>\n",
       "      <td>0.0</td>\n",
       "      <td>0.0</td>\n",
       "    </tr>\n",
       "    <tr>\n",
       "      <th>3</th>\n",
       "      <td>01.01.2016 03:00:00.000</td>\n",
       "      <td>1.08564</td>\n",
       "      <td>1.08564</td>\n",
       "      <td>1.08564</td>\n",
       "      <td>1.08564</td>\n",
       "      <td>0.0</td>\n",
       "      <td>0.0</td>\n",
       "    </tr>\n",
       "    <tr>\n",
       "      <th>4</th>\n",
       "      <td>01.01.2016 04:00:00.000</td>\n",
       "      <td>1.08564</td>\n",
       "      <td>1.08564</td>\n",
       "      <td>1.08564</td>\n",
       "      <td>1.08564</td>\n",
       "      <td>0.0</td>\n",
       "      <td>0.0</td>\n",
       "    </tr>\n",
       "  </tbody>\n",
       "</table>\n",
       "</div>"
      ],
      "text/plain": [
       "                Local time     Open     High      Low    Close  Volume  HML\n",
       "0  01.01.2016 00:00:00.000  1.08564  1.08564  1.08564  1.08564     0.0  0.0\n",
       "1  01.01.2016 01:00:00.000  1.08564  1.08564  1.08564  1.08564     0.0  0.0\n",
       "2  01.01.2016 02:00:00.000  1.08564  1.08564  1.08564  1.08564     0.0  0.0\n",
       "3  01.01.2016 03:00:00.000  1.08564  1.08564  1.08564  1.08564     0.0  0.0\n",
       "4  01.01.2016 04:00:00.000  1.08564  1.08564  1.08564  1.08564     0.0  0.0"
      ]
     },
     "execution_count": 7,
     "metadata": {},
     "output_type": "execute_result"
    }
   ],
   "source": [
    "df.head()"
   ]
  },
  {
   "cell_type": "code",
   "execution_count": 8,
   "metadata": {},
   "outputs": [
    {
     "data": {
      "image/png": "[encoded data removed]",
      "text/plain": [
       "<Figure size 432x288 with 1 Axes>"
      ]
     },
     "metadata": {
      "image/png": {
       "height": 261,
       "width": 420
      },
      "needs_background": "light"
     },
     "output_type": "display_data"
    }
   ],
   "source": [
    "df.plot(x='Local time', y='HML');"
   ]
  },
  {
   "cell_type": "markdown",
   "metadata": {},
   "source": [
    "## Dummy variables\n",
    "We do not have dummy variables yet, but **we drop the `Local time`**, because it is a string, while our Neural Network accepts only numbers. It should be ok, because we keep the index, which can be used later to reconstruct the date and time. "
   ]
  },
  {
   "cell_type": "code",
   "execution_count": 9,
   "metadata": {},
   "outputs": [
    {
     "data": {
      "text/html": [
       "<div>\n",
       "<style scoped>\n",
       "    .dataframe tbody tr th:only-of-type {\n",
       "        vertical-align: middle;\n",
       "    }\n",
       "\n",
       "    .dataframe tbody tr th {\n",
       "        vertical-align: top;\n",
       "    }\n",
       "\n",
       "    .dataframe thead th {\n",
       "        text-align: right;\n",
       "    }\n",
       "</style>\n",
       "<table border=\"1\" class=\"dataframe\">\n",
       "  <thead>\n",
       "    <tr style=\"text-align: right;\">\n",
       "      <th></th>\n",
       "      <th>Open</th>\n",
       "      <th>High</th>\n",
       "      <th>Low</th>\n",
       "      <th>Close</th>\n",
       "      <th>Volume</th>\n",
       "      <th>HML</th>\n",
       "    </tr>\n",
       "  </thead>\n",
       "  <tbody>\n",
       "    <tr>\n",
       "      <th>0</th>\n",
       "      <td>1.08564</td>\n",
       "      <td>1.08564</td>\n",
       "      <td>1.08564</td>\n",
       "      <td>1.08564</td>\n",
       "      <td>0.0</td>\n",
       "      <td>0.0</td>\n",
       "    </tr>\n",
       "    <tr>\n",
       "      <th>1</th>\n",
       "      <td>1.08564</td>\n",
       "      <td>1.08564</td>\n",
       "      <td>1.08564</td>\n",
       "      <td>1.08564</td>\n",
       "      <td>0.0</td>\n",
       "      <td>0.0</td>\n",
       "    </tr>\n",
       "    <tr>\n",
       "      <th>2</th>\n",
       "      <td>1.08564</td>\n",
       "      <td>1.08564</td>\n",
       "      <td>1.08564</td>\n",
       "      <td>1.08564</td>\n",
       "      <td>0.0</td>\n",
       "      <td>0.0</td>\n",
       "    </tr>\n",
       "    <tr>\n",
       "      <th>3</th>\n",
       "      <td>1.08564</td>\n",
       "      <td>1.08564</td>\n",
       "      <td>1.08564</td>\n",
       "      <td>1.08564</td>\n",
       "      <td>0.0</td>\n",
       "      <td>0.0</td>\n",
       "    </tr>\n",
       "    <tr>\n",
       "      <th>4</th>\n",
       "      <td>1.08564</td>\n",
       "      <td>1.08564</td>\n",
       "      <td>1.08564</td>\n",
       "      <td>1.08564</td>\n",
       "      <td>0.0</td>\n",
       "      <td>0.0</td>\n",
       "    </tr>\n",
       "  </tbody>\n",
       "</table>\n",
       "</div>"
      ],
      "text/plain": [
       "      Open     High      Low    Close  Volume  HML\n",
       "0  1.08564  1.08564  1.08564  1.08564     0.0  0.0\n",
       "1  1.08564  1.08564  1.08564  1.08564     0.0  0.0\n",
       "2  1.08564  1.08564  1.08564  1.08564     0.0  0.0\n",
       "3  1.08564  1.08564  1.08564  1.08564     0.0  0.0\n",
       "4  1.08564  1.08564  1.08564  1.08564     0.0  0.0"
      ]
     },
     "execution_count": 9,
     "metadata": {},
     "output_type": "execute_result"
    }
   ],
   "source": [
    "#dummy_fields = ['season', 'weathersit', 'mnth', 'hr', 'weekday']\n",
    "#for each in dummy_fields:\n",
    "#    dummies = pd.get_dummies(rides[each], prefix=each, drop_first=False)\n",
    "#    rides = pd.concat([rides, dummies], axis=1)\n",
    "\n",
    "fields_to_drop = ['Local time']\n",
    "df_no_time = df.drop(fields_to_drop, axis=1)\n",
    "df_no_time.head()"
   ]
  },
  {
   "cell_type": "markdown",
   "metadata": {},
   "source": [
    "## Scaling target variables\n",
    "To make training the network easier, we'll standardize each of the continuous variables. That is, we'll shift and scale the variables such that they have zero mean and a standard deviation of 1.\n",
    "\n",
    "The scaling factors are saved so we can go backwards when we use the network for predictions."
   ]
  },
  {
   "cell_type": "code",
   "execution_count": 10,
   "metadata": {},
   "outputs": [
    {
     "data": {
      "text/html": [
       "<div>\n",
       "<style scoped>\n",
       "    .dataframe tbody tr th:only-of-type {\n",
       "        vertical-align: middle;\n",
       "    }\n",
       "\n",
       "    .dataframe tbody tr th {\n",
       "        vertical-align: top;\n",
       "    }\n",
       "\n",
       "    .dataframe thead th {\n",
       "        text-align: right;\n",
       "    }\n",
       "</style>\n",
       "<table border=\"1\" class=\"dataframe\">\n",
       "  <thead>\n",
       "    <tr style=\"text-align: right;\">\n",
       "      <th></th>\n",
       "      <th>Open</th>\n",
       "      <th>High</th>\n",
       "      <th>Low</th>\n",
       "      <th>Close</th>\n",
       "      <th>Volume</th>\n",
       "      <th>HML</th>\n",
       "    </tr>\n",
       "  </thead>\n",
       "  <tbody>\n",
       "    <tr>\n",
       "      <th>0</th>\n",
       "      <td>-0.839744</td>\n",
       "      <td>-0.864742</td>\n",
       "      <td>-0.816484</td>\n",
       "      <td>-0.839569</td>\n",
       "      <td>-0.743981</td>\n",
       "      <td>-0.852004</td>\n",
       "    </tr>\n",
       "    <tr>\n",
       "      <th>1</th>\n",
       "      <td>-0.839744</td>\n",
       "      <td>-0.864742</td>\n",
       "      <td>-0.816484</td>\n",
       "      <td>-0.839569</td>\n",
       "      <td>-0.743981</td>\n",
       "      <td>-0.852004</td>\n",
       "    </tr>\n",
       "    <tr>\n",
       "      <th>2</th>\n",
       "      <td>-0.839744</td>\n",
       "      <td>-0.864742</td>\n",
       "      <td>-0.816484</td>\n",
       "      <td>-0.839569</td>\n",
       "      <td>-0.743981</td>\n",
       "      <td>-0.852004</td>\n",
       "    </tr>\n",
       "    <tr>\n",
       "      <th>3</th>\n",
       "      <td>-0.839744</td>\n",
       "      <td>-0.864742</td>\n",
       "      <td>-0.816484</td>\n",
       "      <td>-0.839569</td>\n",
       "      <td>-0.743981</td>\n",
       "      <td>-0.852004</td>\n",
       "    </tr>\n",
       "    <tr>\n",
       "      <th>4</th>\n",
       "      <td>-0.839744</td>\n",
       "      <td>-0.864742</td>\n",
       "      <td>-0.816484</td>\n",
       "      <td>-0.839569</td>\n",
       "      <td>-0.743981</td>\n",
       "      <td>-0.852004</td>\n",
       "    </tr>\n",
       "  </tbody>\n",
       "</table>\n",
       "</div>"
      ],
      "text/plain": [
       "       Open      High       Low     Close    Volume       HML\n",
       "0 -0.839744 -0.864742 -0.816484 -0.839569 -0.743981 -0.852004\n",
       "1 -0.839744 -0.864742 -0.816484 -0.839569 -0.743981 -0.852004\n",
       "2 -0.839744 -0.864742 -0.816484 -0.839569 -0.743981 -0.852004\n",
       "3 -0.839744 -0.864742 -0.816484 -0.839569 -0.743981 -0.852004\n",
       "4 -0.839744 -0.864742 -0.816484 -0.839569 -0.743981 -0.852004"
      ]
     },
     "execution_count": 10,
     "metadata": {},
     "output_type": "execute_result"
    }
   ],
   "source": [
    "quant_features = ['Open', 'High', 'Low', 'Close', 'Volume', 'HML']\n",
    "# Store scalings in a dictionary so we can convert back later\n",
    "scaled_features = {}\n",
    "for each in quant_features:\n",
    "    mean, std = df_no_time[each].mean(), df_no_time[each].std()\n",
    "    scaled_features[each] = [mean, std]\n",
    "    df_no_time.loc[:, each] = (df_no_time[each] - mean)/std\n",
    "\n",
    "df_no_time.head()"
   ]
  },
  {
   "cell_type": "markdown",
   "metadata": {},
   "source": [
    "## Splitting the data into training, testing, and validation sets.\n",
    "\n",
    "We'll save the data for the last approximately 21 days to use as a test set after we've trained the network. We'll use this set to make predictions and compare them with the actual values."
   ]
  },
  {
   "cell_type": "code",
   "execution_count": 11,
   "metadata": {},
   "outputs": [],
   "source": [
    "# Save data for approximately the last 21 days \n",
    "test_df = df_no_time[-21*24:]\n",
    "\n",
    "# Now remove the test data from the data set \n",
    "df_no_time = df_no_time[:-21*24]\n",
    "\n",
    "# Separate the data into features and targets\n",
    "target_fields = ['HML', 'Volume']\n",
    "features, targets = df_no_time.drop(target_fields, axis=1), df_no_time[target_fields]\n",
    "test_features, test_targets = test_df.drop(target_fields, axis=1), test_df[target_fields]"
   ]
  },
  {
   "cell_type": "code",
   "execution_count": 12,
   "metadata": {},
   "outputs": [
    {
     "data": {
      "text/html": [
       "<div>\n",
       "<style scoped>\n",
       "    .dataframe tbody tr th:only-of-type {\n",
       "        vertical-align: middle;\n",
       "    }\n",
       "\n",
       "    .dataframe tbody tr th {\n",
       "        vertical-align: top;\n",
       "    }\n",
       "\n",
       "    .dataframe thead th {\n",
       "        text-align: right;\n",
       "    }\n",
       "</style>\n",
       "<table border=\"1\" class=\"dataframe\">\n",
       "  <thead>\n",
       "    <tr style=\"text-align: right;\">\n",
       "      <th></th>\n",
       "      <th>HML</th>\n",
       "      <th>Volume</th>\n",
       "    </tr>\n",
       "  </thead>\n",
       "  <tbody>\n",
       "    <tr>\n",
       "      <th>0</th>\n",
       "      <td>-0.852004</td>\n",
       "      <td>-0.743981</td>\n",
       "    </tr>\n",
       "    <tr>\n",
       "      <th>1</th>\n",
       "      <td>-0.852004</td>\n",
       "      <td>-0.743981</td>\n",
       "    </tr>\n",
       "    <tr>\n",
       "      <th>2</th>\n",
       "      <td>-0.852004</td>\n",
       "      <td>-0.743981</td>\n",
       "    </tr>\n",
       "    <tr>\n",
       "      <th>3</th>\n",
       "      <td>-0.852004</td>\n",
       "      <td>-0.743981</td>\n",
       "    </tr>\n",
       "    <tr>\n",
       "      <th>4</th>\n",
       "      <td>-0.852004</td>\n",
       "      <td>-0.743981</td>\n",
       "    </tr>\n",
       "  </tbody>\n",
       "</table>\n",
       "</div>"
      ],
      "text/plain": [
       "        HML    Volume\n",
       "0 -0.852004 -0.743981\n",
       "1 -0.852004 -0.743981\n",
       "2 -0.852004 -0.743981\n",
       "3 -0.852004 -0.743981\n",
       "4 -0.852004 -0.743981"
      ]
     },
     "execution_count": 12,
     "metadata": {},
     "output_type": "execute_result"
    }
   ],
   "source": [
    "targets.head()"
   ]
  },
  {
   "cell_type": "code",
   "execution_count": 13,
   "metadata": {
    "scrolled": true
   },
   "outputs": [
    {
     "data": {
      "text/html": [
       "<div>\n",
       "<style scoped>\n",
       "    .dataframe tbody tr th:only-of-type {\n",
       "        vertical-align: middle;\n",
       "    }\n",
       "\n",
       "    .dataframe tbody tr th {\n",
       "        vertical-align: top;\n",
       "    }\n",
       "\n",
       "    .dataframe thead th {\n",
       "        text-align: right;\n",
       "    }\n",
       "</style>\n",
       "<table border=\"1\" class=\"dataframe\">\n",
       "  <thead>\n",
       "    <tr style=\"text-align: right;\">\n",
       "      <th></th>\n",
       "      <th>Open</th>\n",
       "      <th>High</th>\n",
       "      <th>Low</th>\n",
       "      <th>Close</th>\n",
       "    </tr>\n",
       "  </thead>\n",
       "  <tbody>\n",
       "    <tr>\n",
       "      <th>0</th>\n",
       "      <td>-0.839744</td>\n",
       "      <td>-0.864742</td>\n",
       "      <td>-0.816484</td>\n",
       "      <td>-0.839569</td>\n",
       "    </tr>\n",
       "    <tr>\n",
       "      <th>1</th>\n",
       "      <td>-0.839744</td>\n",
       "      <td>-0.864742</td>\n",
       "      <td>-0.816484</td>\n",
       "      <td>-0.839569</td>\n",
       "    </tr>\n",
       "    <tr>\n",
       "      <th>2</th>\n",
       "      <td>-0.839744</td>\n",
       "      <td>-0.864742</td>\n",
       "      <td>-0.816484</td>\n",
       "      <td>-0.839569</td>\n",
       "    </tr>\n",
       "    <tr>\n",
       "      <th>3</th>\n",
       "      <td>-0.839744</td>\n",
       "      <td>-0.864742</td>\n",
       "      <td>-0.816484</td>\n",
       "      <td>-0.839569</td>\n",
       "    </tr>\n",
       "    <tr>\n",
       "      <th>4</th>\n",
       "      <td>-0.839744</td>\n",
       "      <td>-0.864742</td>\n",
       "      <td>-0.816484</td>\n",
       "      <td>-0.839569</td>\n",
       "    </tr>\n",
       "  </tbody>\n",
       "</table>\n",
       "</div>"
      ],
      "text/plain": [
       "       Open      High       Low     Close\n",
       "0 -0.839744 -0.864742 -0.816484 -0.839569\n",
       "1 -0.839744 -0.864742 -0.816484 -0.839569\n",
       "2 -0.839744 -0.864742 -0.816484 -0.839569\n",
       "3 -0.839744 -0.864742 -0.816484 -0.839569\n",
       "4 -0.839744 -0.864742 -0.816484 -0.839569"
      ]
     },
     "execution_count": 13,
     "metadata": {},
     "output_type": "execute_result"
    }
   ],
   "source": [
    "features.head()"
   ]
  },
  {
   "cell_type": "code",
   "execution_count": 14,
   "metadata": {},
   "outputs": [],
   "source": [
    "# Hold out the last 60 days or so of the remaining data as a validation set\n",
    "train_features, train_targets = features[:-60*24], targets[:-60*24]\n",
    "val_features, val_targets = features[-60*24:], targets[-60*24:]"
   ]
  },
  {
   "cell_type": "code",
   "execution_count": 15,
   "metadata": {},
   "outputs": [
    {
     "name": "stdout",
     "output_type": "stream",
     "text": [
      "<class 'pandas.core.frame.DataFrame'>\n",
      "RangeIndex: 8279 entries, 0 to 8278\n",
      "Data columns (total 2 columns):\n",
      " #   Column  Non-Null Count  Dtype  \n",
      "---  ------  --------------  -----  \n",
      " 0   HML     8279 non-null   float64\n",
      " 1   Volume  8279 non-null   float64\n",
      "dtypes: float64(2)\n",
      "memory usage: 129.5 KB\n"
     ]
    }
   ],
   "source": [
    "targets.info()"
   ]
  },
  {
   "cell_type": "code",
   "execution_count": 16,
   "metadata": {},
   "outputs": [
    {
     "name": "stdout",
     "output_type": "stream",
     "text": [
      "<class 'pandas.core.frame.DataFrame'>\n",
      "RangeIndex: 1440 entries, 6839 to 8278\n",
      "Data columns (total 2 columns):\n",
      " #   Column  Non-Null Count  Dtype  \n",
      "---  ------  --------------  -----  \n",
      " 0   HML     1440 non-null   float64\n",
      " 1   Volume  1440 non-null   float64\n",
      "dtypes: float64(2)\n",
      "memory usage: 22.6 KB\n"
     ]
    }
   ],
   "source": [
    "val_targets.info()"
   ]
  },
  {
   "cell_type": "code",
   "execution_count": 17,
   "metadata": {},
   "outputs": [],
   "source": [
    "from DL_Forecast_Network import NeuralNetwork"
   ]
  },
  {
   "cell_type": "code",
   "execution_count": 18,
   "metadata": {},
   "outputs": [],
   "source": [
    "def MSE(y, Y):\n",
    "    return np.mean((y-Y)**2)"
   ]
  },
  {
   "cell_type": "markdown",
   "metadata": {},
   "source": [
    "## Unit tests\n",
    "Run these unit tests to check the correctness of your network implementation. This will help you be sure your network was implemented correctly befor you starting trying to train it. These tests must all be successful to pass the project."
   ]
  },
  {
   "cell_type": "code",
   "execution_count": 19,
   "metadata": {},
   "outputs": [
    {
     "name": "stderr",
     "output_type": "stream",
     "text": [
      ".....\n",
      "----------------------------------------------------------------------\n",
      "Ran 5 tests in 0.010s\n",
      "\n",
      "OK\n"
     ]
    },
    {
     "data": {
      "text/plain": [
       "<unittest.runner.TextTestResult run=5 errors=0 failures=0>"
      ]
     },
     "execution_count": 19,
     "metadata": {},
     "output_type": "execute_result"
    }
   ],
   "source": [
    "import unittest\n",
    "\n",
    "inputs = np.array([[0.5, -0.2, 0.1]])\n",
    "targets = np.array([[0.4]])\n",
    "test_w_i_h = np.array([[0.1, -0.2],\n",
    "                       [0.4, 0.5],\n",
    "                       [-0.3, 0.2]])\n",
    "test_w_h_o = np.array([[0.3],\n",
    "                       [-0.1]])\n",
    "\n",
    "class TestMethods(unittest.TestCase):\n",
    "    \n",
    "    ##########\n",
    "    # Unit tests for data loading\n",
    "    ##########\n",
    "    \n",
    "    def test_data_path(self):\n",
    "        # Test that file path to dataset has been unaltered\n",
    "        self.assertTrue(data_path.lower() == 'eurusd_1h_2016.txt') #'bike-sharing-dataset/hour.csv')\n",
    "        \n",
    "    def test_data_loaded(self):\n",
    "        # Test that data frame loaded\n",
    "        self.assertTrue(isinstance(df, pd.DataFrame))\n",
    "    \n",
    "    ##########\n",
    "    # Unit tests for network functionality\n",
    "    ##########\n",
    "\n",
    "    def test_activation(self):\n",
    "        network = NeuralNetwork(3, 2, 1, 0.5)\n",
    "        # Test that the activation function is a sigmoid\n",
    "        self.assertTrue(np.all(network.activation_function(0.5) == 1/(1+np.exp(-0.5))))\n",
    "\n",
    "    def test_train(self):\n",
    "        # Test that weights are updated correctly on training\n",
    "        network = NeuralNetwork(3, 2, 1, 0.5)\n",
    "        network.weights_input_to_hidden = test_w_i_h.copy()\n",
    "        network.weights_hidden_to_output = test_w_h_o.copy()\n",
    "        \n",
    "        network.train(inputs, targets)\n",
    "        self.assertTrue(np.allclose(network.weights_hidden_to_output, \n",
    "                                    np.array([[ 0.37275328], \n",
    "                                              [-0.03172939]])))\n",
    "        self.assertTrue(np.allclose(network.weights_input_to_hidden,\n",
    "                                    np.array([[ 0.10562014, -0.20185996], \n",
    "                                              [0.39775194, 0.50074398], \n",
    "                                              [-0.29887597, 0.19962801]])))\n",
    "\n",
    "    def test_run(self):\n",
    "        # Test correctness of run method\n",
    "        network = NeuralNetwork(3, 2, 1, 0.5)\n",
    "        network.weights_input_to_hidden = test_w_i_h.copy()\n",
    "        network.weights_hidden_to_output = test_w_h_o.copy()\n",
    "\n",
    "        self.assertTrue(np.allclose(network.run(inputs), 0.09998924))\n",
    "\n",
    "suite = unittest.TestLoader().loadTestsFromModule(TestMethods())\n",
    "unittest.TextTestRunner().run(suite)\n"
   ]
  },
  {
   "cell_type": "markdown",
   "metadata": {},
   "source": [
    "## Training the network"
   ]
  },
  {
   "cell_type": "code",
   "execution_count": 20,
   "metadata": {},
   "outputs": [
    {
     "name": "stdout",
     "output_type": "stream",
     "text": [
      "[[ 0.51323141  0.48940528  0.53509752  0.5131791 ]\n",
      " [ 0.6234827   0.64772895  0.61889798  0.60104585]\n",
      " [-0.94040789 -0.95389892 -0.98448424 -0.99173872]\n",
      " [ 0.5699549   0.55457386  0.57460345  0.55671308]\n",
      " [ 0.34985178  0.34427525  0.32519731  0.32746074]\n",
      " [ 0.6214854   0.59775305  0.64324002  0.62141496]\n",
      " [ 0.35025124  0.35666927  0.36869374  0.35981168]\n",
      " [ 0.30031859  0.31069144  0.32080776  0.33464984]\n",
      " [ 0.98020155  0.96277707  0.99240862  0.98326622]\n",
      " [ 0.61389563  0.6445305   0.63126853  0.64497923]\n",
      " [-1.27515637 -1.26774762 -1.26940581 -1.25334201]\n",
      " [ 0.26796224  0.25151996  0.25695978  0.24159096]\n",
      " [ 0.62747731  0.60375016  0.64922577  0.62740588]\n",
      " [ 1.19511168  1.17187627  1.21627558  1.19494522]\n",
      " [ 1.05170511  1.0799206   1.07261764  1.09190148]\n",
      " [ 0.02469037  0.00483888  0.02351563  0.0135368 ]\n",
      " [-0.80219431 -0.81556561 -0.79333937 -0.79763308]\n",
      " [ 0.90909746  0.89201119  0.90501671  0.90977767]\n",
      " [ 0.62747731  0.60375016  0.64922577  0.62740588]\n",
      " [ 0.42335264  0.39944865  0.4453113   0.42331538]\n",
      " [ 0.24679079  0.22273384  0.26893128  0.24678309]\n",
      " [-0.00766599 -0.02914473 -0.0199808  -0.01921354]\n",
      " [ 0.77727526  0.76327325  0.74659393  0.76759329]\n",
      " [ 0.37781407  0.37905848  0.35632319  0.36220805]\n",
      " [ 0.61149887  0.59455459  0.62448468  0.60384161]\n",
      " [-0.15306987 -0.16627862 -0.15047009 -0.17018459]\n",
      " [ 0.15131957  0.18155369  0.06222347  0.18407818]\n",
      " [ 0.61549348  0.60375016  0.62608088  0.61941799]\n",
      " [ 0.09859069  0.07640438  0.03029948  0.03111015]\n",
      " [ 0.38620275  0.3750604   0.40819967  0.39895232]\n",
      " [ 0.65983367  0.63613454  0.6815488   0.65975682]\n",
      " [-0.59008041 -0.58207817 -0.62414224 -0.57556983]\n",
      " [ 0.65983367  0.63613454  0.6815488   0.65975682]\n",
      " [-0.72909291 -0.73440474 -0.76141538 -0.77926094]\n",
      " [ 0.72534531  0.7384852   0.74619488  0.7524163 ]\n",
      " [ 1.01854983  0.99516146  1.03989555  1.01841293]\n",
      " [ 1.19511168  1.17187627  1.21627558  1.19494522]\n",
      " [ 0.3486534   0.32468469  0.37068899  0.34862864]\n",
      " [ 0.81083     0.78726169  0.83238964  0.81072788]\n",
      " [-0.30806081 -0.30980943 -0.29053658 -0.30278351]\n",
      " [ 0.48686697  0.48700644  0.50756308  0.50599   ]\n",
      " [-0.18143161 -0.20266108 -0.22349621 -0.20253553]\n",
      " [ 1.01135953  1.00515664  1.02952026  1.02400445]\n",
      " [ 1.16275532  1.18147164  1.17956299  1.17657308]\n",
      " [ 0.56076729  0.53818177  0.54347756  0.53235003]\n",
      " [ 0.03547582  0.03802289  0.05543962  0.03550349]\n",
      " [-1.08621122 -1.11142298 -1.062698   -1.08599578]\n",
      " [-0.14827633 -0.17267554 -0.125729   -0.1482179 ]\n",
      " [ 0.87993679  0.87721832  0.84954878  0.86264914]\n",
      " [-0.6056594  -0.63045485 -0.58264106 -0.60552441]\n",
      " [ 0.1684964   0.1711587   0.15679828  0.14493753]\n",
      " [-0.72549776 -0.71641341 -0.72111135 -0.7325318 ]\n",
      " [ 1.31175435  1.28861999  1.33279813  1.31156836]\n",
      " [ 0.29392721  0.29070107  0.30245147  0.30469526]\n",
      " [ 0.182877    0.17395735  0.14203343  0.1473339 ]\n",
      " [ 0.60590641  0.60854784  0.62488373  0.61782042]\n",
      " [ 1.2174815   1.20386085  1.23064137  1.22370161]\n",
      " [ 0.59791719  0.60015189  0.61929703  0.61422587]\n",
      " [ 0.51243249  0.50059988  0.49918303  0.49999909]\n",
      " [ 1.33332525  1.33179917  1.32282188  1.31795867]\n",
      " [-0.79859916 -0.78558007 -0.77538213 -0.7608888 ]\n",
      " [ 0.56915598  0.57976172  0.57939205  0.58746645]\n",
      " [-0.83974366 -0.8647419  -0.81648426 -0.83956948]\n",
      " [ 0.33666956  0.31269047  0.35871749  0.33664681]\n",
      " [ 0.60550695  0.59295536  0.60572934  0.59825009]\n",
      " [ 0.45890469  0.52178967  0.47444194  0.47883119]\n",
      " [-0.76144927 -0.76678912 -0.75822298 -0.76847729]\n",
      " [ 0.57594682  0.61334553  0.5813873   0.62101557]\n",
      " [ 0.25557894  0.28750261  0.25536359  0.2879207 ]\n",
      " [ 0.29472614  0.27870685  0.31282676  0.29351222]\n",
      " [-0.65878774 -0.60646641 -0.64688808 -0.63827474]\n",
      " [ 1.29138182  1.26822982  1.31244658  1.29119925]\n",
      " [ 0.47648098  0.47461241  0.49359633  0.47284027]\n",
      " [ 0.45411115  0.50219911  0.47563909  0.51717304]\n",
      " [-0.16145855 -0.15268518 -0.15924919 -0.13703486]\n",
      " [-0.92203267 -0.9419047  -1.01800442 -0.9653787 ]\n",
      " [ 1.67406565  1.67883187  1.65802374  1.64506262]\n",
      " [ 1.21388635  1.20745911  1.18714494  1.19055188]\n",
      " [ 0.35744155  0.33348045  0.37946808  0.35741531]\n",
      " [ 0.6234827   0.59975208  0.64523527  0.62341194]\n",
      " [ 0.94704627  1.03154392  0.96048463  1.04477295]\n",
      " [ 0.28713637  0.27071071  0.28170087  0.27553948]\n",
      " [ 0.38140922  0.35746888  0.40341107  0.38137897]\n",
      " [ 0.0686311   0.0828013   0.07898356  0.09740961]\n",
      " [-0.21179066 -0.17507438 -0.19795702 -0.16778823]\n",
      " [ 0.65983367  0.63613454  0.6815488   0.65975682]\n",
      " [-0.24214971 -0.26343179 -0.2482373  -0.24606951]\n",
      " [ 0.53440286  0.55497367  0.52911177  0.51277971]\n",
      " [ 0.33666956  0.31269047  0.35871749  0.33664681]\n",
      " [ 1.15196987  1.17387531  1.15841335  1.1893537 ]\n",
      " [ 0.17968131  0.15556622  0.20189091  0.17968484]\n",
      " [ 1.19511168  1.17187627  1.21627558  1.19494522]\n",
      " [ 0.80843324  0.80805166  0.82600484  0.81951455]\n",
      " [ 1.14158388  1.24304196  1.05865089  1.24287254]\n",
      " [ 0.44292624  0.43343226  0.4612733   0.4428857 ]\n",
      " [ 0.91349153  0.90800348  0.85553453  0.86384732]\n",
      " [-0.69553817 -0.71321495 -0.74266004 -0.70617178]\n",
      " [-0.5717052  -0.59647123 -0.54872182 -0.57157589]\n",
      " [ 0.34945232  0.3418764   0.36949184  0.36260744]\n",
      " [ 0.36662915  0.3750604   0.38705003  0.39695535]\n",
      " [ 0.66462721  0.74728096  0.67875546  0.77078844]\n",
      " [-0.6056594  -0.63045485 -0.58264106 -0.60552441]\n",
      " [ 0.3486534   0.32468469  0.37068899  0.34862864]\n",
      " [ 0.28753584  0.2811057   0.27651323  0.26595401]\n",
      " [-0.99872922 -1.00307521 -1.11337733 -1.13152674]\n",
      " [-0.11831674 -0.1266977  -0.11774801 -0.12784879]\n",
      " [ 0.24679079  0.22273384  0.26893128  0.24678309]\n",
      " [ 0.68699703  0.66971835  0.64204287  0.62381133]\n",
      " [-0.6324233  -0.62285851 -0.70355316 -0.72654089]\n",
      " [ 0.43254025  0.42183785  0.44810465  0.44568146]\n",
      " [ 1.00297084  0.98556609  0.99320672  0.98885774]\n",
      " [ 0.66462721  0.74728096  0.67875546  0.77078844]\n",
      " [ 0.81083     0.78726169  0.83238964  0.81072788]\n",
      " [ 1.0353272   1.02074913  1.01196206  1.02160808]\n",
      " [ 0.75650328  0.73528674  0.73262718  0.72525749]\n",
      " [ 1.34650747  1.32340322  1.25298816  1.25325679]\n",
      " [ 0.36662915  0.36626464  0.36230894  0.38337595]\n",
      " [ 0.77208227  0.84243509  0.78290746  0.86264914]\n",
      " [-0.52696555 -0.38577281 -0.53355793 -0.44337031]\n",
      " [ 0.81961815  0.82684261  0.83079344  0.81951455]\n",
      " [ 0.61789025  0.61094669  0.63406187  0.6186192 ]\n",
      " [ 0.56436245  0.58775787  0.52552032  0.55791127]\n",
      " [ 0.11177291  0.10399108  0.08337311  0.06106472]\n",
      " [ 0.32029165  0.29629837  0.34235645  0.32027164]\n",
      " [ 1.53265639  1.5097134   1.55347268  1.53243342]\n",
      " [ 0.95303819  0.93838883  0.96367703  0.96169893]\n",
      " [ 0.09859069  0.07440535  0.12088379  0.09860779]\n",
      " [ 0.52641363  0.50939564  0.47603814  0.45806268]] 5766   -0.852004\n",
      "1074    0.504481\n",
      "508     0.591996\n",
      "6639   -0.385257\n",
      "6335    0.336744\n",
      "          ...   \n",
      "1725   -0.852004\n",
      "2896   -0.852004\n",
      "5652   -0.494651\n",
      "4222   -0.852004\n",
      "5455    0.591996\n",
      "Name: HML, Length: 128, dtype: float64\n"
     ]
    }
   ],
   "source": [
    "batch = np.random.choice(train_features.index, size=128)\n",
    "X, y = train_features.iloc[batch].values, train_targets.iloc[batch]['HML']\n",
    "print(X,y)"
   ]
  },
  {
   "cell_type": "code",
   "execution_count": 24,
   "metadata": {},
   "outputs": [
    {
     "name": "stdout",
     "output_type": "stream",
     "text": [
      "Progress: 100.0% ... Training loss: 0.012 ... Validation loss: 0.036"
     ]
    }
   ],
   "source": [
    "import sys\n",
    "\n",
    "####################\n",
    "### Set the hyperparameters in you myanswers.py file ###\n",
    "####################\n",
    "\n",
    "#from my_answers import iterations, learning_rate, hidden_nodes, output_nodes\n",
    "from DL_Forecast_Network import iterations, learning_rate, hidden_nodes, output_nodes\n",
    "\n",
    "\n",
    "N_i = train_features.shape[1]\n",
    "network = NeuralNetwork(N_i, hidden_nodes, output_nodes, learning_rate)\n",
    "\n",
    "losses = {'train':[], 'validation':[]}\n",
    "for ii in range(iterations):\n",
    "    # Go through a random batch of 128 records from the training data set\n",
    "    batch = np.random.choice(train_features.index, size=128)\n",
    "    X, y = train_features.iloc[batch].values, train_targets.iloc[batch]['HML']\n",
    "                             \n",
    "    network.train(X, y)\n",
    "    \n",
    "    # Printing out the training progress\n",
    "    train_loss = MSE(network.run(train_features).T, train_targets['HML'].values)\n",
    "    val_loss = MSE(network.run(val_features).T, val_targets['HML'].values)\n",
    "    sys.stdout.write(\"\\rProgress: {:2.1f}\".format(100 * ii/float(iterations)) \\\n",
    "                     + \"% ... Training loss: \" + str(train_loss)[:5] \\\n",
    "                     + \" ... Validation loss: \" + str(val_loss)[:5])\n",
    "    sys.stdout.flush()\n",
    "    \n",
    "    losses['train'].append(train_loss)\n",
    "    losses['validation'].append(val_loss)"
   ]
  },
  {
   "cell_type": "code",
   "execution_count": 25,
   "metadata": {},
   "outputs": [
    {
     "name": "stdout",
     "output_type": "stream",
     "text": [
      "iterations = 10000 learning_rate = 0.3 hidden_nodes = 30 output_nodes = 1\n",
      "Training loss = 0.012438241531439314 \n",
      "Validation loss = 0.036839481059135724\n"
     ]
    },
    {
     "data": {
      "image/png": "[encoded data removed]",
      "text/plain": [
       "<Figure size 432x288 with 1 Axes>"
      ]
     },
     "metadata": {
      "image/png": {
       "height": 248,
       "width": 369
      },
      "needs_background": "light"
     },
     "output_type": "display_data"
    }
   ],
   "source": [
    "print('iterations =',iterations,'learning_rate =',learning_rate,'hidden_nodes =',hidden_nodes,'output_nodes =',output_nodes)\n",
    "plt.plot(losses['train'], label='Training loss')\n",
    "plt.plot(losses['validation'], label='Validation loss')\n",
    "plt.legend()\n",
    "_ = plt.ylim()\n",
    "print('Training loss =',losses['train'][-1],'\\nValidation loss =',losses['validation'][-1])"
   ]
  },
  {
   "cell_type": "markdown",
   "metadata": {},
   "source": [
    "## Check out the predictions"
   ]
  },
  {
   "cell_type": "code",
   "execution_count": 26,
   "metadata": {
    "scrolled": true
   },
   "outputs": [
    {
     "name": "stdout",
     "output_type": "stream",
     "text": [
      "iterations = 10000 learning_rate = 0.3 hidden_nodes = 30 output_nodes = 1\n"
     ]
    },
    {
     "name": "stderr",
     "output_type": "stream",
     "text": [
      "/home/vb/anaconda3/lib/python3.7/site-packages/ipykernel_launcher.py:12: RuntimeWarning: divide by zero encountered in true_divide\n",
      "  if sys.path[0] == '':\n"
     ]
    },
    {
     "data": {
      "image/png": "[encoded data removed]",
      "text/plain": [
       "<Figure size 576x288 with 1 Axes>"
      ]
     },
     "metadata": {
      "image/png": {
       "height": 271,
       "width": 504
      },
      "needs_background": "light"
     },
     "output_type": "display_data"
    }
   ],
   "source": [
    "print('iterations =',iterations,'learning_rate =',learning_rate,'hidden_nodes =',hidden_nodes,'output_nodes =',output_nodes)\n",
    "\n",
    "fig, ax = plt.subplots(figsize=(8,4))\n",
    "\n",
    "mean, std = scaled_features['HML']\n",
    "predictions = network.run(test_features).T*std + mean\n",
    "#ax.plot(predictions[0], label='Prediction')\n",
    "#ax.plot((test_targets['HML']*std + mean).values, label='Data')\n",
    "#\n",
    "f1 = predictions[0]\n",
    "f2 = (test_targets['HML']*std + mean).values\n",
    "diff = 100*(f1 - f2) / f2\n",
    "ax.plot(f1*10000, label='Prediction * 10.000')\n",
    "ax.plot(f2*10000, label='Data * 10.000')\n",
    "ax.plot(diff, label='( Prediction - Data ) / Data, [%]')\n",
    "#\n",
    "\n",
    "ax.set_xlim(right=len(predictions))\n",
    "ax.legend()\n",
    "\n",
    "dates = pd.to_datetime(df.iloc[test_df.index]['Local time'])\n",
    "dates = dates.apply(lambda d: d.strftime('%b %d'))\n",
    "ax.set_xticks(np.arange(len(dates))[12::24])\n",
    "_ = ax.set_xticklabels(dates[12::24], rotation=45)"
   ]
  },
  {
   "cell_type": "code",
   "execution_count": null,
   "metadata": {},
   "outputs": [],
   "source": []
  }
 ],
 "metadata": {
  "kernelspec": {
   "display_name": "Python 3",
   "language": "python",
   "name": "python3"
  },
  "language_info": {
   "codemirror_mode": {
    "name": "ipython",
    "version": 3
   },
   "file_extension": ".py",
   "mimetype": "text/x-python",
   "name": "python",
   "nbconvert_exporter": "python",
   "pygments_lexer": "ipython3",
   "version": "3.7.4"
  }
 },
 "nbformat": 4,
 "nbformat_minor": 2
}
