{
 "cells": [
  {
   "cell_type": "markdown",
   "metadata": {},
   "source": [
    "# Stanford [CS230 Deep Learning](http://cs230.stanford.edu/past-projects/)\n",
    "## 2020\n",
    "- **Deep learning for seeking alpha (finance). (Using LSTM in Stock prediction and Quantitative Trading)**, [report](http://cs230.stanford.edu/projects_winter_2020/reports/32066186.pdf), [poster](http://cs230.stanford.edu/projects_winter_2020/posters/32066186.pdf), [video](https://www.youtube.com/watch?v=K3w_zsz1qYI). Results:\n",
    "    - Mean-Squared-Error:\n",
    "        - ARIMA: (p, d, q) = (1,0,1), MSE = 0.0546. ARIMA didn’t perform well on predicting non-linearity and long term results.\n",
    "        - **Attention-LSTM** outperformed among three deep learning models (LSTM, Stacked-LSTM, Attention-LSTM) as expected.\n",
    "        - **Single layer LSTM** performed better than Stacked-LSTM \n",
    "    - Total Annual Return:\n",
    "        - Only Single-LSTM and Attention-LSTM were evaluated. Both models significantly outperformed the benchmark.\n",
    "        \n",
    "        \n",
    "- **Learning Probability Distributions of Future Stock Prices** by Jeffrey Sun, Julius Zhang, Mohammad Lari: [report](http://cs230.stanford.edu/projects_winter_2020/reports/32274501.pdf), [poster](http://cs230.stanford.edu/projects_winter_2020/posters/32274501.pdf), [video](https://www.youtube.com/watch?v=EowN_DrDjIk), [GitHub](http://bit.ly/stockpricedl)\n",
    "    - There is a **lose relationship between financial news and stock price**. \n",
    "    - The CNN2, which only uses the past **20 days financial news** as input, instead of using long-term, mid-term, short-term news as for CNN1. The best test accuracy of CNN2 is 0.59, given **SIF word embeddings (?)** as input. \n",
    "    - The performance of our RNN model is on par with published work by Ding et al. [2015], and shows that RNN is able to learn the connection between financial news and stock price to some degree. However, with such large amount of trainable parameters in our model, our training data is not sufficient and we are constantly overfitting the model and yielding less satisfactory results. Accumulating a larger dataset would alleviate this issue, i.e. **RNN is not as good as CNN2**. \n",
    "\n",
    "\n",
    "- Learning Probability Distributions of Future Stock Prices by Jeffrey Sun, Julius Zhang, Mohammad Lari: [report](http://cs230.stanford.edu/projects_winter_2020/reports/32144605.pdf) [poster](http://cs230.stanford.edu/projects_winter_2020/posters/32144605.pdf)\n",
    "    - The most probable next day change is `-1%`. (Myself: The distribution has heavy tails!).\n",
    "\n",
    "\n",
    "- A Deep Learning Approach for Stock Market Prediction by Yan Miao: [report](http://cs230.stanford.edu/projects_fall_2020/reports/55614857.pdf). The best performing algorithm is a LSTM network with 50 neurons, 3 layers, dropout rate 0.1 and batch size 32. (He tested nothing else?).\n",
    "     \n",
    "        \n",
    "## 2019\n",
    "- Predicting stock prices with LSTM networks by David Manuel Duemig: [report](http://cs230.stanford.edu/projects_winter_2019/reports/15624789.pdf), [poster](http://cs230.stanford.edu/projects_winter_2019/posters/15624743.pdf), [video](https://www.youtube.com/watch?v=QQE_Yw5UUyc). It was not too successful. \n",
    "    \n",
    "## 2018\n",
    "- **Exploration of predicting power of ARIMA, Facebook Prophet and LSTM on time series** by Jingyue Zhang, Yi Jiang: [report](http://cs230.stanford.edu/projects_fall_2018/reports/12444910.pdf), [poster](http://cs230.stanford.edu/projects_fall_2018/posters/12375484.pdf).\n",
    "    - Morlet **wavelet heat spectrum** shows low frequency cyclical signals at 60 Days, supporting **60 day window for LSTM**.\n",
    "    - **Facebook Prophet (?)** shows strong support for trading adages (?) such as **\"January Effect\"** (?).\n",
    "    - **FED Reserve minutes meetings (?) have significant impact** on market movements.\n",
    "- Predicting Stock Movements Using LSTM by Matt Roche: [report](http://cs230.stanford.edu/projects_fall_2018/reports/12447173.pdf), [poster](http://cs230.stanford.edu/projects_fall_2018/posters/12373381.pdf). It was not too successful."
   ]
  },
  {
   "cell_type": "code",
   "execution_count": null,
   "metadata": {},
   "outputs": [],
   "source": []
  }
 ],
 "metadata": {
  "kernelspec": {
   "display_name": "Python 3",
   "language": "python",
   "name": "python3"
  },
  "language_info": {
   "codemirror_mode": {
    "name": "ipython",
    "version": 3
   },
   "file_extension": ".py",
   "mimetype": "text/x-python",
   "name": "python",
   "nbconvert_exporter": "python",
   "pygments_lexer": "ipython3",
   "version": "3.7.4"
  }
 },
 "nbformat": 4,
 "nbformat_minor": 2
}
