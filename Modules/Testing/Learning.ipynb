{
 "cells": [
  {
   "cell_type": "code",
   "execution_count": 29,
   "metadata": {},
   "outputs": [
    {
     "name": "stdout",
     "output_type": "stream",
     "text": [
      "hello t1\n",
      "hello t2\n",
      "hello t2\n",
      "hello t1\n",
      "hello t3\n"
     ]
    }
   ],
   "source": [
    "# Testing basic class structure and cross-class-linking methods\n",
    "from enum import Enum, auto\n",
    "class MSG(Enum):\n",
    "    SOTM_READY = auto() # SOTM message to SGMM that its analysis cycle completed and results are ready\n",
    "    CASM_READY = auto() # CASM message to SGMM that it finished its analysis and result are ready for SOTM to start\n",
    "class ft1:\n",
    "    ef = None\n",
    "    def f(self, enum):\n",
    "        print('hello t1')\n",
    "class ft2:\n",
    "    def f(self):\n",
    "        print('hello t2')\n",
    "\n",
    "message = MSG.SOTM_READY\n",
    "t1 = ft1()\n",
    "t2 = ft2()\n",
    "\n",
    "t1.f(message)\n",
    "t2.f()\n",
    "\n",
    "t1.ef = t2.f\n",
    "t1.ef()\n",
    "\n",
    "class ft3(ft1):\n",
    "    message = MSG.SOTM_READY\n",
    "    def f(self):\n",
    "        super().f(message)\n",
    "        print('hello t3')\n",
    "\n",
    "t3 = ft3()\n",
    "t3.f()"
   ]
  },
  {
   "cell_type": "code",
   "execution_count": 35,
   "metadata": {},
   "outputs": [
    {
     "name": "stdout",
     "output_type": "stream",
     "text": [
      "[0.0, 0, 0.0, 0, 0.0, 0, 0.0, 0, 0.0, 0, 0.0, 0, 0.0, 0, 0.0, 0, 0.0, 0, 0.0, 0]\n",
      "[[0.0, 0], [0.0, 0], [0.0, 0]]\n",
      "[[0.0, 0], [0.0, 0], [0.0, 0], [0.0, 0], [0.0, 0], [0.0, 0], [0.0, 0], [0.0, 0], [0.0, 0]]\n"
     ]
    }
   ],
   "source": [
    "# testing lists usage for heterogeneous data types for each entry\n",
    "Hist = [0.0, 0]*10\n",
    "print(Hist)\n",
    "Hist2 = [[0.0,0],[0.0,0],[0.0,0]]\n",
    "print(Hist2)\n",
    "Hist3 = []\n",
    "for i in range(0,9):\n",
    "    Hist3.append([0.0, 0])\n",
    "print(Hist3)"
   ]
  },
  {
   "cell_type": "code",
   "execution_count": 1,
   "metadata": {},
   "outputs": [
    {
     "ename": "SyntaxError",
     "evalue": "invalid syntax (<ipython-input-1-cf083b4bc461>, line 2)",
     "output_type": "error",
     "traceback": [
      "\u001b[1;36m  File \u001b[1;32m\"<ipython-input-1-cf083b4bc461>\"\u001b[1;36m, line \u001b[1;32m2\u001b[0m\n\u001b[1;33m    switch(strmn){\u001b[0m\n\u001b[1;37m                 ^\u001b[0m\n\u001b[1;31mSyntaxError\u001b[0m\u001b[1;31m:\u001b[0m invalid syntax\n"
     ]
    }
   ],
   "source": [
    "# testing switch functionality\n",
    "strmn = \"January\"\n",
    "switch(strmn){\n",
    "    case \"January\": mnn = 1;\n",
    "                    break;\n",
    "    case \"February\":   mnn = 2;\n",
    "                       break;\n",
    "    default:  mnn = -1;\n",
    "              break;  \n",
    "}"
   ]
  },
  {
   "cell_type": "code",
   "execution_count": 23,
   "metadata": {},
   "outputs": [
    {
     "name": "stdout",
     "output_type": "stream",
     "text": [
      "b'cccccccccccccccccccccccccccccccccccccccccccccccccccccccccccccccccccccccccccccccccccccccccccccccccccc'\n",
      "hello t1\n",
      "b'dededededededededededededededededededededededededededededededededededededededededededededededededede'\n"
     ]
    }
   ],
   "source": [
    "# testing memory mapped files and passing pointers into a class instance\n",
    "# see more details at https://realpython.com/python-mmap/\n",
    "import mmap\n",
    "import os\n",
    "\n",
    "BUF = mmap.mmap(-1, length=100, access=mmap.ACCESS_WRITE)\n",
    "BUF[0:] = b\"c\" * 100\n",
    "print(BUF[0:100])\n",
    "    \n",
    "class ft1:\n",
    "    iBUF = mmap.mmap(-1, length=100, access=mmap.ACCESS_WRITE)\n",
    "    def f(self):\n",
    "        print('hello t1')\n",
    "        self.iBUF[0:] = b\"de\" * 50\n",
    "    def f1(self):\n",
    "        print(self.iBUF[0:])\n",
    "        \n",
    "t1 = ft1()\n",
    "t1.iBUF = BUF\n",
    "t1.f()\n",
    "t1.f1()"
   ]
  },
  {
   "cell_type": "code",
   "execution_count": 2,
   "metadata": {
    "scrolled": true
   },
   "outputs": [
    {
     "name": "stdout",
     "output_type": "stream",
     "text": [
      "Hello Python!\n",
      "\n"
     ]
    }
   ],
   "source": [
    "# simple disk base file operations \n",
    "fn = None\n",
    "\n",
    "fn = open('Hello.txt', 'r')\n",
    "text = fn.readline()\n",
    "\n",
    "print(text)"
   ]
  },
  {
   "cell_type": "code",
   "execution_count": 5,
   "metadata": {},
   "outputs": [
    {
     "name": "stdout",
     "output_type": "stream",
     "text": [
      "line  0\n",
      "line  1\n",
      "line  2\n"
     ]
    }
   ],
   "source": [
    "# trying to recall how to print integers\n",
    "for i in range(0, 3):\n",
    "    print('line ', str(i))"
   ]
  },
  {
   "cell_type": "code",
   "execution_count": 7,
   "metadata": {},
   "outputs": [
    {
     "name": "stdout",
     "output_type": "stream",
     "text": [
      "False\n"
     ]
    }
   ],
   "source": [
    "# verifying try-except statement\n",
    "def TestTry():\n",
    "    try:\n",
    "        f = open('test.dat')\n",
    "    except:\n",
    "        return False\n",
    "\n",
    "    return True\n",
    "\n",
    "res = TestTry()\n",
    "print(str(res))"
   ]
  },
  {
   "cell_type": "code",
   "execution_count": 14,
   "metadata": {},
   "outputs": [
    {
     "name": "stdout",
     "output_type": "stream",
     "text": [
      "complete list\n",
      "['setting 1', 'setting 2', 'setting 3']\n",
      "1st element\n",
      "setting 1\n"
     ]
    }
   ],
   "source": [
    "# basic lists manipulations\n",
    "ExList = []\n",
    "ExList.append(\"setting 1\")\n",
    "ExList.append(\"setting 2\")\n",
    "ExList.append(\"setting 3\")\n",
    "\n",
    "print(\"complete list\")\n",
    "print(ExList)\n",
    "\n",
    "print(\"1st element\")\n",
    "print(ExList[0])"
   ]
  },
  {
   "cell_type": "code",
   "execution_count": 15,
   "metadata": {},
   "outputs": [
    {
     "name": "stdout",
     "output_type": "stream",
     "text": [
      "Hi from init\n",
      "Hi from talk\n"
     ]
    }
   ],
   "source": [
    "# checking functionality of __init__ method, if it is called automatically\n",
    "class ft():\n",
    "    def __init__(self):\n",
    "        print(\"Hi from init\")\n",
    "    def talk(self):\n",
    "        print(\"Hi from talk\")\n",
    "        \n",
    "t = ft()\n",
    "t.talk()"
   ]
  },
  {
   "cell_type": "code",
   "execution_count": 19,
   "metadata": {},
   "outputs": [
    {
     "name": "stdout",
     "output_type": "stream",
     "text": [
      "CASM TSF\n",
      "['casm line 1', 'casm line 2']\n",
      "SOTM TSF\n",
      "[]\n",
      "CASM TSF\n",
      "['casm line 1', 'casm line 2']\n",
      "SOTM TSF\n",
      "['casm line 1', 'casm line 2']\n",
      "CASM TSF\n",
      "['casm line 1', 'casm line 2', 'casm line 3', 'casm line 4']\n",
      "SOTM TSF\n",
      "['casm line 1', 'casm line 2', 'casm line 3', 'casm line 4']\n"
     ]
    }
   ],
   "source": [
    "# passing pointer to a list to another class for shared use\n",
    "class FCASM():\n",
    "    TSF = []\n",
    "    \n",
    "class FSOTM():\n",
    "    TSF = []\n",
    "    \n",
    "CASM = FCASM()\n",
    "SOTM = FSOTM()\n",
    "\n",
    "CASM.TSF.append(\"casm line 1\")\n",
    "CASM.TSF.append(\"casm line 2\")\n",
    "\n",
    "print(\"CASM TSF\")\n",
    "print(CASM.TSF)\n",
    "print(\"SOTM TSF\")\n",
    "print(SOTM.TSF)\n",
    "\n",
    "SOTM.TSF = CASM.TSF\n",
    "\n",
    "print(\"CASM TSF\")\n",
    "print(CASM.TSF)\n",
    "print(\"SOTM TSF\")\n",
    "print(SOTM.TSF)\n",
    "\n",
    "CASM.TSF.append(\"casm line 3\")\n",
    "CASM.TSF.append(\"casm line 4\")\n",
    "\n",
    "print(\"CASM TSF\")\n",
    "print(CASM.TSF)\n",
    "print(\"SOTM TSF\")\n",
    "print(SOTM.TSF)"
   ]
  },
  {
   "cell_type": "code",
   "execution_count": 4,
   "metadata": {},
   "outputs": [
    {
     "name": "stdout",
     "output_type": "stream",
     "text": [
      "done\n",
      "0.0\n",
      "0\n"
     ]
    }
   ],
   "source": [
    "# replacing pascal's data structures with python lists with \n",
    "# having long list so that it can be kept static during the run\n",
    "Hist = []\n",
    "for i in range(0,99999):\n",
    "    Hist.append([0.0, 0])\n",
    "print('done')\n",
    "print(Hist[100][0])\n",
    "print(Hist[100][1])\n"
   ]
  }
 ],
 "metadata": {
  "kernelspec": {
   "display_name": "Python 3",
   "language": "python",
   "name": "python3"
  },
  "language_info": {
   "codemirror_mode": {
    "name": "ipython",
    "version": 3
   },
   "file_extension": ".py",
   "mimetype": "text/x-python",
   "name": "python",
   "nbconvert_exporter": "python",
   "pygments_lexer": "ipython3",
   "version": "3.8.5"
  }
 },
 "nbformat": 4,
 "nbformat_minor": 4
}
