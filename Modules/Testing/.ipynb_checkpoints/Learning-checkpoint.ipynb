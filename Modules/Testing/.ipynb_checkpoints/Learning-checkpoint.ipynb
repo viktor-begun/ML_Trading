{
 "cells": [
  {
   "cell_type": "code",
   "execution_count": 29,
   "metadata": {},
   "outputs": [
    {
     "name": "stdout",
     "output_type": "stream",
     "text": [
      "hello t1\n",
      "hello t2\n",
      "hello t2\n",
      "hello t1\n",
      "hello t3\n"
     ]
    }
   ],
   "source": [
    "# Testing basic class structure and cross-class-linking methods\n",
    "from enum import Enum, auto\n",
    "class MSG(Enum):\n",
    "    SOTM_READY = auto() # SOTM message to SGMM that its analysis cycle completed and results are ready\n",
    "    CASM_READY = auto() # CASM message to SGMM that it finished its analysis and result are ready for SOTM to start\n",
    "class ft1:\n",
    "    ef = None\n",
    "    def f(self, enum):\n",
    "        print('hello t1')\n",
    "class ft2:\n",
    "    def f(self):\n",
    "        print('hello t2')\n",
    "\n",
    "message = MSG.SOTM_READY\n",
    "t1 = ft1()\n",
    "t2 = ft2()\n",
    "\n",
    "t1.f(message)\n",
    "t2.f()\n",
    "\n",
    "t1.ef = t2.f\n",
    "t1.ef()\n",
    "\n",
    "class ft3(ft1):\n",
    "    message = MSG.SOTM_READY\n",
    "    def f(self):\n",
    "        super().f(message)\n",
    "        print('hello t3')\n",
    "\n",
    "t3 = ft3()\n",
    "t3.f()"
   ]
  },
  {
   "cell_type": "code",
   "execution_count": 35,
   "metadata": {},
   "outputs": [
    {
     "name": "stdout",
     "output_type": "stream",
     "text": [
      "[0.0, 0, 0.0, 0, 0.0, 0, 0.0, 0, 0.0, 0, 0.0, 0, 0.0, 0, 0.0, 0, 0.0, 0, 0.0, 0]\n",
      "[[0.0, 0], [0.0, 0], [0.0, 0]]\n",
      "[[0.0, 0], [0.0, 0], [0.0, 0], [0.0, 0], [0.0, 0], [0.0, 0], [0.0, 0], [0.0, 0], [0.0, 0]]\n"
     ]
    }
   ],
   "source": [
    "# testing lists usage for heterogeneous data types for each entry\n",
    "Hist = [0.0, 0]*10\n",
    "print(Hist)\n",
    "Hist2 = [[0.0,0],[0.0,0],[0.0,0]]\n",
    "print(Hist2)\n",
    "Hist3 = []\n",
    "for i in range(0,9):\n",
    "    Hist3.append([0.0, 0])\n",
    "print(Hist3)"
   ]
  },
  {
   "cell_type": "code",
   "execution_count": 1,
   "metadata": {},
   "outputs": [
    {
     "ename": "SyntaxError",
     "evalue": "invalid syntax (<ipython-input-1-cf083b4bc461>, line 2)",
     "output_type": "error",
     "traceback": [
      "\u001b[1;36m  File \u001b[1;32m\"<ipython-input-1-cf083b4bc461>\"\u001b[1;36m, line \u001b[1;32m2\u001b[0m\n\u001b[1;33m    switch(strmn){\u001b[0m\n\u001b[1;37m                 ^\u001b[0m\n\u001b[1;31mSyntaxError\u001b[0m\u001b[1;31m:\u001b[0m invalid syntax\n"
     ]
    }
   ],
   "source": [
    "# testing switch functionality\n",
    "strmn = \"January\"\n",
    "switch(strmn){\n",
    "    case \"January\": mnn = 1;\n",
    "                    break;\n",
    "    case \"February\":   mnn = 2;\n",
    "                       break;\n",
    "    default:  mnn = -1;\n",
    "              break;  \n",
    "}"
   ]
  },
  {
   "cell_type": "code",
   "execution_count": 23,
   "metadata": {},
   "outputs": [
    {
     "name": "stdout",
     "output_type": "stream",
     "text": [
      "b'cccccccccccccccccccccccccccccccccccccccccccccccccccccccccccccccccccccccccccccccccccccccccccccccccccc'\n",
      "hello t1\n",
      "b'dededededededededededededededededededededededededededededededededededededededededededededededededede'\n"
     ]
    }
   ],
   "source": [
    "# testing memory mapped files and passing pointers into a class instance\n",
    "# see more details at https://realpython.com/python-mmap/\n",
    "import mmap\n",
    "import os\n",
    "\n",
    "BUF = mmap.mmap(-1, length=100, access=mmap.ACCESS_WRITE)\n",
    "BUF[0:] = b\"c\" * 100\n",
    "print(BUF[0:100])\n",
    "    \n",
    "class ft1:\n",
    "    iBUF = mmap.mmap(-1, length=100, access=mmap.ACCESS_WRITE)\n",
    "    def f(self):\n",
    "        print('hello t1')\n",
    "        self.iBUF[0:] = b\"de\" * 50\n",
    "    def f1(self):\n",
    "        print(self.iBUF[0:])\n",
    "        \n",
    "t1 = ft1()\n",
    "t1.iBUF = BUF\n",
    "t1.f()\n",
    "t1.f1()"
   ]
  },
  {
   "cell_type": "code",
   "execution_count": 2,
   "metadata": {
    "scrolled": true
   },
   "outputs": [
    {
     "name": "stdout",
     "output_type": "stream",
     "text": [
      "Hello Python!\n",
      "\n"
     ]
    }
   ],
   "source": [
    "# simple disk base file operations \n",
    "fn = None\n",
    "\n",
    "fn = open('Hello.txt', 'r')\n",
    "text = fn.readline()\n",
    "\n",
    "print(text)"
   ]
  },
  {
   "cell_type": "code",
   "execution_count": 5,
   "metadata": {},
   "outputs": [
    {
     "name": "stdout",
     "output_type": "stream",
     "text": [
      "line  0\n",
      "line  1\n",
      "line  2\n"
     ]
    }
   ],
   "source": [
    "# trying to recall how to print integers\n",
    "for i in range(0, 3):\n",
    "    print('line ', str(i))"
   ]
  },
  {
   "cell_type": "code",
   "execution_count": 7,
   "metadata": {},
   "outputs": [
    {
     "name": "stdout",
     "output_type": "stream",
     "text": [
      "False\n"
     ]
    }
   ],
   "source": [
    "# verifying try-except statement\n",
    "def TestTry():\n",
    "    try:\n",
    "        f = open('test.dat')\n",
    "    except:\n",
    "        return False\n",
    "\n",
    "    return True\n",
    "\n",
    "res = TestTry()\n",
    "print(str(res))"
   ]
  },
  {
   "cell_type": "code",
   "execution_count": 14,
   "metadata": {},
   "outputs": [
    {
     "name": "stdout",
     "output_type": "stream",
     "text": [
      "complete list\n",
      "['setting 1', 'setting 2', 'setting 3']\n",
      "1st element\n",
      "setting 1\n"
     ]
    }
   ],
   "source": [
    "# basic lists manipulations\n",
    "ExList = []\n",
    "ExList.append(\"setting 1\")\n",
    "ExList.append(\"setting 2\")\n",
    "ExList.append(\"setting 3\")\n",
    "\n",
    "print(\"complete list\")\n",
    "print(ExList)\n",
    "\n",
    "print(\"1st element\")\n",
    "print(ExList[0])"
   ]
  },
  {
   "cell_type": "code",
   "execution_count": 15,
   "metadata": {},
   "outputs": [
    {
     "name": "stdout",
     "output_type": "stream",
     "text": [
      "Hi from init\n",
      "Hi from talk\n"
     ]
    }
   ],
   "source": [
    "# checking functionality of __init__ method, if it is called automatically\n",
    "class ft():\n",
    "    def __init__(self):\n",
    "        print(\"Hi from init\")\n",
    "    def talk(self):\n",
    "        print(\"Hi from talk\")\n",
    "        \n",
    "t = ft()\n",
    "t.talk()"
   ]
  },
  {
   "cell_type": "code",
   "execution_count": 19,
   "metadata": {},
   "outputs": [
    {
     "name": "stdout",
     "output_type": "stream",
     "text": [
      "CASM TSF\n",
      "['casm line 1', 'casm line 2']\n",
      "SOTM TSF\n",
      "[]\n",
      "CASM TSF\n",
      "['casm line 1', 'casm line 2']\n",
      "SOTM TSF\n",
      "['casm line 1', 'casm line 2']\n",
      "CASM TSF\n",
      "['casm line 1', 'casm line 2', 'casm line 3', 'casm line 4']\n",
      "SOTM TSF\n",
      "['casm line 1', 'casm line 2', 'casm line 3', 'casm line 4']\n"
     ]
    }
   ],
   "source": [
    "# passing pointer to a list to another class for shared use\n",
    "class FCASM():\n",
    "    TSF = []\n",
    "    \n",
    "class FSOTM():\n",
    "    TSF = []\n",
    "    \n",
    "CASM = FCASM()\n",
    "SOTM = FSOTM()\n",
    "\n",
    "CASM.TSF.append(\"casm line 1\")\n",
    "CASM.TSF.append(\"casm line 2\")\n",
    "\n",
    "print(\"CASM TSF\")\n",
    "print(CASM.TSF)\n",
    "print(\"SOTM TSF\")\n",
    "print(SOTM.TSF)\n",
    "\n",
    "SOTM.TSF = CASM.TSF\n",
    "\n",
    "print(\"CASM TSF\")\n",
    "print(CASM.TSF)\n",
    "print(\"SOTM TSF\")\n",
    "print(SOTM.TSF)\n",
    "\n",
    "CASM.TSF.append(\"casm line 3\")\n",
    "CASM.TSF.append(\"casm line 4\")\n",
    "\n",
    "print(\"CASM TSF\")\n",
    "print(CASM.TSF)\n",
    "print(\"SOTM TSF\")\n",
    "print(SOTM.TSF)"
   ]
  },
  {
   "cell_type": "code",
   "execution_count": 26,
   "metadata": {},
   "outputs": [
    {
     "name": "stdout",
     "output_type": "stream",
     "text": [
      "done\n",
      "1.0\n",
      "3.14\n",
      "[[0.0, 0], [0.0, 0], [0.0, 0], [0.0, 0], [0.0, 0], [1.0, 3.14], [0.0, 0], [0.0, 0], [0.0, 0], [0.0, 0]]\n"
     ]
    }
   ],
   "source": [
    "# replacing pascal's data structures with python lists with \n",
    "# having long list so that it can be kept static during the run\n",
    "Hist = []\n",
    "for i in range(0,99999):\n",
    "    Hist.append([0.0, 0])\n",
    "print('done')\n",
    "Hist[100][0] = 1.0\n",
    "Hist[100][1] = 3.14\n",
    "print(Hist[100][0])\n",
    "print(Hist[100][1])\n",
    "print(Hist[95:105])\n"
   ]
  },
  {
   "cell_type": "code",
   "execution_count": 8,
   "metadata": {},
   "outputs": [
    {
     "name": "stdout",
     "output_type": "stream",
     "text": [
      "<enum.auto object at 0x000002BD10B8D0D0>\n",
      "text\n",
      "<enum.auto object at 0x000002BD10B8D0D0>\n",
      "0.127\n",
      "<enum.auto object at 0x000002BD10B8D0D0>\n",
      "244\n"
     ]
    }
   ],
   "source": [
    "# testing how to call a method from one class in another with parameters\n",
    "from enum import Enum, auto\n",
    "\n",
    "SOTM_READY = auto() # SOTM message to SGMM that its analysis cycle completed and results are ready\n",
    "CASM_READY = auto() # CASM message to SGMM that it finished its analysis and result are ready for SOTM to start\n",
    "\n",
    "class ft1:\n",
    "    def ProcessMsg(self, enum, param):\n",
    "        print(str(enum))\n",
    "        print(str(param))\n",
    "\n",
    "class ft2:\n",
    "    MsgToT1 = None\n",
    "    def f(self, enum):\n",
    "        print('hello from t2')\n",
    "        \n",
    "t1 = ft1()\n",
    "t2 = ft2()\n",
    "t2.MsgToT1 = t1.ProcessMsg\n",
    "\n",
    "t2.MsgToT1(SOTM_READY, 'text')\n",
    "t2.MsgToT1(SOTM_READY, 0.127)\n",
    "t2.MsgToT1(SOTM_READY, 244)"
   ]
  },
  {
   "cell_type": "code",
   "execution_count": 10,
   "metadata": {},
   "outputs": [
    {
     "name": "stdout",
     "output_type": "stream",
     "text": [
      "2021-04-30 17:47:20.789925\n",
      "30/04/2021 17:47:20\n"
     ]
    }
   ],
   "source": [
    "# testing date time in python\n",
    "from datetime import datetime\n",
    "\n",
    "now = datetime.now()\n",
    "dt = now.strftime(\"%d/%m/%Y %H:%M:%S\")\n",
    "\n",
    "print(str(now))\n",
    "print(dt)"
   ]
  },
  {
   "cell_type": "code",
   "execution_count": 28,
   "metadata": {},
   "outputs": [
    {
     "data": {
      "text/plain": [
       "<function TextIOWrapper.close()>"
      ]
     },
     "execution_count": 28,
     "metadata": {},
     "output_type": "execute_result"
    }
   ],
   "source": [
    "f = open('test.dat', 'w')\n",
    "f.write('line 1'+'\\t'+'next word'+'\\n')\n",
    "f.write('line 2')\n",
    "f.close"
   ]
  },
  {
   "cell_type": "code",
   "execution_count": 23,
   "metadata": {},
   "outputs": [
    {
     "name": "stdout",
     "output_type": "stream",
     "text": [
      "1.08564\n"
     ]
    }
   ],
   "source": [
    "# learning how to load data from file into a list, where each line from\n",
    "# the file is split into several sub-entries of a one entry of the list\n",
    "hfile = open(\"../../TrainingSrc/EURUSD_1H_2016.txt\", \"r\")\n",
    "hist = []\n",
    "count = 0\n",
    "for line in hfile:\n",
    "    count += 1\n",
    "    sline = line.strip()\n",
    "    # print(sline)\n",
    "    if count != 1:\n",
    "        hist.append(sline.split(','))\n",
    "hfile.close()\n",
    "\n",
    "print(hist[0][1])"
   ]
  },
  {
   "cell_type": "code",
   "execution_count": 31,
   "metadata": {},
   "outputs": [
    {
     "name": "stdout",
     "output_type": "stream",
     "text": [
      "Checking for non-existing file\n",
      "File exists:False\n",
      "False\n",
      "Checking for existing file\n",
      "File exists:True\n",
      "True1.9\n"
     ]
    }
   ],
   "source": [
    "# simple test for whether a file exists at a specified location\n",
    "import os.path\n",
    "from os import path\n",
    "\n",
    "print (\"Checking for non-existing file\")\n",
    "print (\"File exists:\"+str(path.exists('../../NonExistingFile.txt')))\n",
    "\n",
    "if not path.exists('../../NonExistingFile.txt'):\n",
    "    print(\"False\")\n",
    "else:\n",
    "    print(\"True\")\n",
    "  \n",
    "print (\"Checking for existing file\")\n",
    "print (\"File exists:\"+str(path.exists('../../TrainingSrc/EURUSD_1H_2016.txt')))\n",
    "\n",
    "if not path.exists('../../TrainingSrc/EURUSD_1H_2016.txt'):\n",
    "    print(\"False\"+str(1.9))\n",
    "else:\n",
    "    print(\"True\"+str(1.9))"
   ]
  },
  {
   "cell_type": "code",
   "execution_count": 8,
   "metadata": {},
   "outputs": [
    {
     "ename": "TypeError",
     "evalue": "__init__() missing 2 required positional arguments: 'param1' and 'param2'",
     "output_type": "error",
     "traceback": [
      "\u001b[1;31m---------------------------------------------------------------------------\u001b[0m",
      "\u001b[1;31mTypeError\u001b[0m                                 Traceback (most recent call last)",
      "\u001b[1;32m<ipython-input-8-a2840d6a42fb>\u001b[0m in \u001b[0;36m<module>\u001b[1;34m\u001b[0m\n\u001b[0;32m     15\u001b[0m \u001b[0mparam1\u001b[0m \u001b[1;33m=\u001b[0m \u001b[1;33m[\u001b[0m\u001b[1;36m1\u001b[0m\u001b[1;33m,\u001b[0m\u001b[1;36m2\u001b[0m\u001b[1;33m,\u001b[0m\u001b[1;36m3\u001b[0m\u001b[1;33m]\u001b[0m\u001b[1;33m\u001b[0m\u001b[1;33m\u001b[0m\u001b[0m\n\u001b[0;32m     16\u001b[0m \u001b[0mparam2\u001b[0m \u001b[1;33m=\u001b[0m \u001b[1;34m'param2'\u001b[0m\u001b[1;33m\u001b[0m\u001b[1;33m\u001b[0m\u001b[0m\n\u001b[1;32m---> 17\u001b[1;33m \u001b[0mt1\u001b[0m \u001b[1;33m=\u001b[0m \u001b[0mTInhClass\u001b[0m\u001b[1;33m(\u001b[0m\u001b[1;33m)\u001b[0m\u001b[1;33m\u001b[0m\u001b[1;33m\u001b[0m\u001b[0m\n\u001b[0m\u001b[0;32m     18\u001b[0m \u001b[1;33m\u001b[0m\u001b[0m\n",
      "\u001b[1;32m<ipython-input-8-a2840d6a42fb>\u001b[0m in \u001b[0;36m__init__\u001b[1;34m(self)\u001b[0m\n\u001b[0;32m     10\u001b[0m \u001b[1;32mclass\u001b[0m \u001b[0mTInhClass\u001b[0m\u001b[1;33m(\u001b[0m\u001b[0mTBaseClass\u001b[0m\u001b[1;33m)\u001b[0m\u001b[1;33m:\u001b[0m\u001b[1;33m\u001b[0m\u001b[1;33m\u001b[0m\u001b[0m\n\u001b[0;32m     11\u001b[0m     \u001b[1;32mdef\u001b[0m \u001b[0m__init__\u001b[0m\u001b[1;33m(\u001b[0m\u001b[0mself\u001b[0m\u001b[1;33m)\u001b[0m\u001b[1;33m:\u001b[0m\u001b[1;33m\u001b[0m\u001b[1;33m\u001b[0m\u001b[0m\n\u001b[1;32m---> 12\u001b[1;33m         \u001b[0msuper\u001b[0m\u001b[1;33m(\u001b[0m\u001b[1;33m)\u001b[0m\u001b[1;33m.\u001b[0m\u001b[0m__init__\u001b[0m\u001b[1;33m(\u001b[0m\u001b[1;33m)\u001b[0m\u001b[1;33m\u001b[0m\u001b[1;33m\u001b[0m\u001b[0m\n\u001b[0m\u001b[0;32m     13\u001b[0m         \u001b[0mprint\u001b[0m\u001b[1;33m(\u001b[0m\u001b[1;34m\"Inherited class init\"\u001b[0m\u001b[1;33m)\u001b[0m\u001b[1;33m\u001b[0m\u001b[1;33m\u001b[0m\u001b[0m\n\u001b[0;32m     14\u001b[0m \u001b[1;33m\u001b[0m\u001b[0m\n",
      "\u001b[1;31mTypeError\u001b[0m: __init__() missing 2 required positional arguments: 'param1' and 'param2'"
     ]
    }
   ],
   "source": [
    "# Case 1\n",
    "# testing init paramaters in a class instance initialization\n",
    "# important note! -> When inheriting classes, all nested (parent) class\n",
    "# __inits__ are not called automatically!!\n",
    "# So the code below gives an error\n",
    "class TBaseClass():\n",
    "    def __init__(self, param1, param2):\n",
    "        print(str(param1))\n",
    "        print(str(param2))\n",
    "\n",
    "class TInhClass(TBaseClass):\n",
    "    def __init__(self):\n",
    "        super().__init__()\n",
    "        print(\"Inherited class init\")\n",
    "\n",
    "param1 = [1,2,3]\n",
    "param2 = 'param2'\n",
    "t1 = TInhClass()\n",
    "        "
   ]
  },
  {
   "cell_type": "code",
   "execution_count": 10,
   "metadata": {},
   "outputs": [
    {
     "name": "stdout",
     "output_type": "stream",
     "text": [
      "[1, 2, 3]\n",
      "param2\n",
      "Inherited class init\n"
     ]
    }
   ],
   "source": [
    "# Case 2\n",
    "# testing init paramaters in a class instance initialization\n",
    "# important note! -> When inheriting classes, all nested (parent) class\n",
    "# __inits__ are not called automatically!!\n",
    "# So the code below executes correctly\n",
    "class TBaseClass():\n",
    "    def __init__(self, param1, param2):\n",
    "        print(str(param1))\n",
    "        print(str(param2))\n",
    "\n",
    "class TInhClass(TBaseClass):\n",
    "    def __init__(self, param1, param2):\n",
    "        super().__init__(param1, param2)\n",
    "        print(\"Inherited class init\")\n",
    "\n",
    "param1 = [1,2,3]\n",
    "param2 = 'param2'\n",
    "t1 = TInhClass(param1, param2)"
   ]
  },
  {
   "cell_type": "code",
   "execution_count": 12,
   "metadata": {},
   "outputs": [
    {
     "name": "stdout",
     "output_type": "stream",
     "text": [
      "3.14\n"
     ]
    }
   ],
   "source": [
    "# how to call class variables using its instance\n",
    "class var():\n",
    "    v1 = 0.0\n",
    "    v2 = 1\n",
    "    v3 = False\n",
    "\n",
    "vars = [var(), var(), var()]\n",
    "\n",
    "vars[0].v1 = 3.14\n",
    "print(str(vars[0].v1))"
   ]
  },
  {
   "cell_type": "code",
   "execution_count": 21,
   "metadata": {},
   "outputs": [
    {
     "name": "stdout",
     "output_type": "stream",
     "text": [
      "[0.0, 0.0, 0.0, [0.0, 3.14], 0.0, 0.0, 0.0, 0.0, 0.0, 0.0, 0.0, 0.0, 0.0, 0.0, 0.0, 0.0, 0.0, 0.0, 0.0, 0.0]\n"
     ]
    }
   ],
   "source": [
    "lst = [0.0, 0.0] * 10\n",
    "lst[3] = [0.0, 3.14]\n",
    "\n",
    "print(str(lst))"
   ]
  }
 ],
 "metadata": {
  "kernelspec": {
   "display_name": "Python 3",
   "language": "python",
   "name": "python3"
  },
  "language_info": {
   "codemirror_mode": {
    "name": "ipython",
    "version": 3
   },
   "file_extension": ".py",
   "mimetype": "text/x-python",
   "name": "python",
   "nbconvert_exporter": "python",
   "pygments_lexer": "ipython3",
   "version": "3.8.5"
  }
 },
 "nbformat": 4,
 "nbformat_minor": 4
}
