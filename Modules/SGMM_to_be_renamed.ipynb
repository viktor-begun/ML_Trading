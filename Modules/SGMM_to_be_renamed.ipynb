{
 "cells": [
  {
   "cell_type": "markdown",
   "metadata": {},
   "source": [
    "SGMM pseudocode\n",
    "\n",
    "read starting variables values\n",
    "\n",
    "run CASM/SOTM pair on a one year test period (fixed variables)\n",
    "get *account statement vs time* after the run\n",
    "calculate fitness/energy of the obtained *account statement vs time*\n",
    "\n",
    "while not flgStop do {\n",
    "\n",
    "    run CASM/SOTM pair on a one year test period (fixed variables)\n",
    "    \n",
    "    get *account statement vs time* after the run\n",
    "    \n",
    "    calculate fitness/energy of the obtained *account statement vs time*\n",
    "    \n",
    "    if the last variation was more favorable in terms of fitness/energy\n",
    "        then keep the i-th variable variation and vary it the same direction but quiker\n",
    "        else if the same i-th varible was varied two-times in a row\n",
    "                then discard last variation and proceed to the next i=(i+1)-th variable\n",
    "                else discard variation, vary this variable in opposite direction\n",
    "\n",
    "}"
   ]
  },
  {
   "cell_type": "code",
   "execution_count": null,
   "metadata": {},
   "outputs": [],
   "source": []
  }
 ],
 "metadata": {
  "kernelspec": {
   "display_name": "Python 3",
   "language": "python",
   "name": "python3"
  },
  "language_info": {
   "codemirror_mode": {
    "name": "ipython",
    "version": 3
   },
   "file_extension": ".py",
   "mimetype": "text/x-python",
   "name": "python",
   "nbconvert_exporter": "python",
   "pygments_lexer": "ipython3",
   "version": "3.8.5"
  }
 },
 "nbformat": 4,
 "nbformat_minor": 4
}
