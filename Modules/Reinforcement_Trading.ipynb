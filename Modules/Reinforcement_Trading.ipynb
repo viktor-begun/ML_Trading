{
 "cells": [
  {
   "cell_type": "markdown",
   "metadata": {},
   "source": [
    "# Theory\n",
    "- [A friendly introduction to deep reinforcement learning](https://www.youtube.com/watch?v=SgC6AZss478), Q-networks and policy gradients by [Luis Serrano](https://www.youtube.com/watch?v=SgC6AZss478).\n",
    "\n",
    "- MIT 6.S191: \n",
    "    - [Reinforcement Learning, video](https://www.youtube.com/watch?v=93M1l_nrhpQ).\n",
    "        - Policy Gradient (Policy Learning) is better than Value Learning (Q-Learning), becauase at the end one needs a policy for an agent, where to move.\n",
    "    - The whole course: [Introduction to Deep Learning](http://introtodeeplearning.com/?fbclid=IwAR0SDda3HmOl1DSuyFJyTHZZGtDPkHxJbgnRiAPVy3GHKpMHmV5yk-S2g_0).\n",
    "        - [A complete syllabus, grading info, and student deliverables](https://docs.google.com/document/d/1p1zAcNlogBCQFDXnSntwHFQ06pwmzewXpiQns-KfOd8/edit?usp=sharing)\n",
    "        - [Labs](https://github.com/aamini/introtodeeplearning)\n",
    "            - [Lab 3: RL for a cartpole and a pong in the Atari game (arcanoid?)](https://github.com/aamini/introtodeeplearning/blob/master/lab3/RL.ipynb) \n",
    "- Towards Data Science:\n",
    " - [Trade and Invest Smarter — The Reinforcement Learning Way](https://towardsdatascience.com/trade-smarter-w-reinforcement-learning-a5e91163f315)\n",
    " - [Deep Reinforcement Learning for Automated Stock Trading](https://towardsdatascience.com/deep-reinforcement-learning-for-automated-stock-trading-f1dad0126a02)\n",
    "- [neptune.ai](https://neptune.ai)\n",
    "    - [7 Applications of Reinforcement Learning in Finance and Trading](https://neptune.ai/blog/7-applications-of-reinforcement-learning-in-finance-and-trading)\n",
    "    \n",
    "## Udacity:\n",
    "- [GitHub](https://github.com/udacity/deep-reinforcement-learning) of the Deep Reinforcement Learning Nanodegree\n",
    "    - [Deep Reinforcement Learning for Optimal Execution of Portfolio Transactions](https://github.com/udacity/deep-reinforcement-learning/blob/master/finance/DRL.ipynb): Train an agent to discover optimal trading strategies.\n",
    "        - [Robert Almgren; Real Time Trading Signals](https://www.youtube.com/watch?v=s4IdoWUhRDA) "
   ]
  },
  {
   "cell_type": "code",
   "execution_count": null,
   "metadata": {},
   "outputs": [],
   "source": []
  }
 ],
 "metadata": {
  "kernelspec": {
   "display_name": "Python 3",
   "language": "python",
   "name": "python3"
  },
  "language_info": {
   "codemirror_mode": {
    "name": "ipython",
    "version": 3
   },
   "file_extension": ".py",
   "mimetype": "text/x-python",
   "name": "python",
   "nbconvert_exporter": "python",
   "pygments_lexer": "ipython3",
   "version": "3.7.4"
  }
 },
 "nbformat": 4,
 "nbformat_minor": 2
}
