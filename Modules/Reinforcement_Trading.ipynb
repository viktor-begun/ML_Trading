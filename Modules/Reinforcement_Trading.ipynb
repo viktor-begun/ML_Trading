{
 "cells": [
  {
   "cell_type": "markdown",
   "metadata": {},
   "source": [
    "# Theory\n",
    "- [A friendly introduction to deep reinforcement learning](https://www.youtube.com/watch?v=SgC6AZss478), Q-networks and policy gradients by [Luis Serrano](https://www.youtube.com/watch?v=SgC6AZss478).\n",
    "\n",
    "- MIT 6.S191: \n",
    "    - [Reinforcement Learning, video](https://www.youtube.com/watch?v=93M1l_nrhpQ).\n",
    "    - The whole course: [Introduction to Deep Learning](http://introtodeeplearning.com/?fbclid=IwAR0SDda3HmOl1DSuyFJyTHZZGtDPkHxJbgnRiAPVy3GHKpMHmV5yk-S2g_0)."
   ]
  },
  {
   "cell_type": "code",
   "execution_count": null,
   "metadata": {},
   "outputs": [],
   "source": []
  }
 ],
 "metadata": {
  "kernelspec": {
   "display_name": "Python 3",
   "language": "python",
   "name": "python3"
  },
  "language_info": {
   "codemirror_mode": {
    "name": "ipython",
    "version": 3
   },
   "file_extension": ".py",
   "mimetype": "text/x-python",
   "name": "python",
   "nbconvert_exporter": "python",
   "pygments_lexer": "ipython3",
   "version": "3.7.4"
  }
 },
 "nbformat": 4,
 "nbformat_minor": 2
}
